{
  "cells": [
    {
      "cell_type": "code",
      "execution_count": 31,
      "id": "bf1b3bfe-d069-4411-8586-d9c328fc5898",
      "metadata": {
        "id": "bf1b3bfe-d069-4411-8586-d9c328fc5898"
      },
      "outputs": [],
      "source": [
        "import pandas as pd\n",
        "import numpy as np\n",
        "import pickle"
      ]
    },
    {
      "cell_type": "code",
      "execution_count": null,
      "id": "c5686272-d8b0-453e-8c11-d76bea9e3ba0",
      "metadata": {
        "id": "c5686272-d8b0-453e-8c11-d76bea9e3ba0"
      },
      "outputs": [],
      "source": [
        "train_df = pd.read_csv('/content/train_df_Alibaba.csv')\n",
        "test_df = pd.read_csv('/content/test_df_Alibaba.csv')\n",
        "df = pd.concat([train_df,test_df],axis=0)\n",
        "df"
      ]
    },
    {
      "cell_type": "code",
      "source": [
        "df.info()"
      ],
      "metadata": {
        "id": "9RUGYhBxDVtF"
      },
      "id": "9RUGYhBxDVtF",
      "execution_count": null,
      "outputs": []
    },
    {
      "cell_type": "code",
      "source": [
        "df.drop(['dtype','Unnamed: 0','voucher_collect_time','voucher_redeem_time','user_id', 'keys_length'],axis=1,inplace=True)"
      ],
      "metadata": {
        "id": "_a-WoWN3E03A"
      },
      "id": "_a-WoWN3E03A",
      "execution_count": 9,
      "outputs": []
    },
    {
      "cell_type": "code",
      "source": [
        "df"
      ],
      "metadata": {
        "id": "YL2WOG_DFz11"
      },
      "id": "YL2WOG_DFz11",
      "execution_count": null,
      "outputs": []
    },
    {
      "cell_type": "code",
      "execution_count": 12,
      "id": "add31264-343e-4c02-8c43-cc5a55d5a502",
      "metadata": {
        "id": "add31264-343e-4c02-8c43-cc5a55d5a502"
      },
      "outputs": [],
      "source": [
        "#Change the order of columns.\n",
        "df = df[['session_id','promotion_id','user_age_level','user_gender','user_purchase_level','voucher_min_spend', 'voucher_discount','user_trd__orders_cnt_hist', 'user_trd__actual_gmv_usd_hist','user_trd__orders_cnt_platform_discount_hist', 'user_trd__max_gmv_usd_hist','user_trd__avg_gmv_usd_hist','user_trd__min_gmv_usd_hist','label']]"
      ]
    },
    {
      "cell_type": "code",
      "execution_count": 26,
      "id": "d1510185-5419-4aae-87d1-b90117233291",
      "metadata": {
        "id": "d1510185-5419-4aae-87d1-b90117233291"
      },
      "outputs": [],
      "source": [
        "wide_cols = ['session_id','promotion_id','voucher_min_spend', 'voucher_discount','user_age_level','user_gender','user_purchase_level','user_trd_orders_cnt_hist', 'user_trd_actual_gmv_usd_hist','user_trd_orders_cnt_platform_discount_hist', 'user_trd_max_gmv_usd_hist','user_trd_avg_gmv_usd_hist','user_trd_min_gmv_usd_hist']\n",
        "crossed_product_cols = [['user_age_level','user_gender'],['user_age_level','user_purchase_level']]\n",
        "categorical_cols = ['user_age_level','user_gender','user_purchase_level']\n",
        "embedding_cols = ['session_id','promotion_id','user_age_level','user_gender','user_purchase_level']\n",
        "continuous_cols = ['voucher_min_spend', 'voucher_discount','user_trd__orders_cnt_hist', 'user_trd__actual_gmv_usd_hist','user_trd__orders_cnt_platform_discount_hist', 'user_trd__max_gmv_usd_hist','user_trd__avg_gmv_usd_hist','user_trd__min_gmv_usd_hist']\n",
        "target =\"label\""
      ]
    },
    {
      "cell_type": "code",
      "execution_count": 14,
      "id": "8ca8f6c6-d375-4110-9afb-d4925cdc9173",
      "metadata": {
        "id": "8ca8f6c6-d375-4110-9afb-d4925cdc9173"
      },
      "outputs": [],
      "source": [
        "#Wide dataset\n",
        "df_wide = df.copy()"
      ]
    },
    {
      "cell_type": "code",
      "execution_count": 11,
      "id": "5c633e04-6eb6-4d59-8ef2-502d266a4e63",
      "metadata": {
        "id": "5c633e04-6eb6-4d59-8ef2-502d266a4e63"
      },
      "outputs": [],
      "source": [
        "#Make crossed_columns\n",
        "def make_crossed(df,crossed_product_cols):\n",
        "    crossed_products = []\n",
        "    for cols in crossed_product_cols:\n",
        "        colname = \"*\".join(cols)\n",
        "        df[colname] = df[cols].astype(str).apply(lambda x: \"-\".join(x),axis =1 )\n",
        "        crossed_products.append(colname)\n",
        "    return crossed_products, df"
      ]
    },
    {
      "cell_type": "code",
      "execution_count": 15,
      "id": "7962c4b9-8275-4cec-841f-b603be3a2bf1",
      "metadata": {
        "id": "7962c4b9-8275-4cec-841f-b603be3a2bf1"
      },
      "outputs": [],
      "source": [
        "crossed_products, df_wide = make_crossed(df_wide, crossed_product_cols)"
      ]
    },
    {
      "cell_type": "code",
      "execution_count": 27,
      "id": "12e97480-e560-4ffc-a895-86a55d43a58b",
      "metadata": {
        "id": "12e97480-e560-4ffc-a895-86a55d43a58b"
      },
      "outputs": [],
      "source": [
        "one_hot_encoding = crossed_products + categorical_cols + [wide_cols[1]] #include Promotion_id"
      ]
    },
    {
      "cell_type": "code",
      "source": [
        "one_hot_encoding"
      ],
      "metadata": {
        "id": "uDk7Kz25GgzG"
      },
      "id": "uDk7Kz25GgzG",
      "execution_count": null,
      "outputs": []
    },
    {
      "cell_type": "code",
      "execution_count": 29,
      "id": "e421ecc8-aa34-4c22-9a67-3e72b6529150",
      "metadata": {
        "id": "e421ecc8-aa34-4c22-9a67-3e72b6529150"
      },
      "outputs": [],
      "source": [
        "df_wide = pd.get_dummies(df_wide, columns = one_hot_encoding)"
      ]
    },
    {
      "cell_type": "code",
      "source": [
        "# Wide dataset including one hot encoded promotion ID\n",
        "with open('df_wide_encoding_promotionID.pkl','wb') as f:\n",
        "    pickle.dump(df_wide,f)"
      ],
      "metadata": {
        "id": "5eTNDK1OIKhB"
      },
      "id": "5eTNDK1OIKhB",
      "execution_count": 37,
      "outputs": []
    },
    {
      "cell_type": "code",
      "execution_count": null,
      "id": "6586c87c-e30e-4258-ac89-548fdd5c48f9",
      "metadata": {
        "id": "6586c87c-e30e-4258-ac89-548fdd5c48f9"
      },
      "outputs": [],
      "source": [
        "# Wide dataset just label encoding for promotion ID\n",
        "with open('df_wide_final.pkl','wb') as f:\n",
        "    pickle.dump(df_wide,f)"
      ]
    },
    {
      "cell_type": "code",
      "execution_count": null,
      "id": "24a59402-32c5-4808-a443-3c85efe3609b",
      "metadata": {
        "id": "24a59402-32c5-4808-a443-3c85efe3609b"
      },
      "outputs": [],
      "source": [
        "# Dataset for Deep model\n",
        "df_deep = df.copy()\n",
        "\n",
        "with open('df_deep_final.pkl','wb') as f:\n",
        "    pickle.dump(df_deep,f)"
      ]
    }
  ],
  "metadata": {
    "kernelspec": {
      "display_name": "default:Python",
      "language": "python",
      "name": "conda-env-default-py"
    },
    "language_info": {
      "codemirror_mode": {
        "name": "ipython",
        "version": 3
      },
      "file_extension": ".py",
      "mimetype": "text/x-python",
      "name": "python",
      "nbconvert_exporter": "python",
      "pygments_lexer": "ipython3",
      "version": "3.9.10"
    },
    "colab": {
      "name": "Data_Preprocessing.ipynb",
      "provenance": []
    }
  },
  "nbformat": 4,
  "nbformat_minor": 5
}